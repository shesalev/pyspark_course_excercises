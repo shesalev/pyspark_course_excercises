{
 "cells": [
  {
   "cell_type": "code",
   "execution_count": 1,
   "id": "4b94b2e0-3796-411b-ad82-1b56e7f89e1f",
   "metadata": {},
   "outputs": [
    {
     "data": {
      "text/html": [
       "\n",
       "            <div>\n",
       "                <p><b>SparkSession - in-memory</b></p>\n",
       "                \n",
       "        <div>\n",
       "            <p><b>SparkContext</b></p>\n",
       "\n",
       "            <p><a href=\"http://ec4eafc64606:4040\">Spark UI</a></p>\n",
       "\n",
       "            <dl>\n",
       "              <dt>Version</dt>\n",
       "                <dd><code>v3.4.0</code></dd>\n",
       "              <dt>Master</dt>\n",
       "                <dd><code>local</code></dd>\n",
       "              <dt>AppName</dt>\n",
       "                <dd><code>pyspark-shell</code></dd>\n",
       "            </dl>\n",
       "        </div>\n",
       "        \n",
       "            </div>\n",
       "        "
      ],
      "text/plain": [
       "<pyspark.sql.session.SparkSession at 0x7f7f7a84ac10>"
      ]
     },
     "execution_count": 1,
     "metadata": {},
     "output_type": "execute_result"
    }
   ],
   "source": [
    "import pyspark\n",
    "from pyspark.sql.functions import *\n",
    "from pyspark.sql.types import *\n",
    "from pyspark.sql import SparkSession\n",
    "\n",
    "spark = SparkSession.builder.master(\"local\") \\\n",
    "    .config('spark.sql.autoBroadcastJoinThreshold', 0) \\\n",
    "    .config('spark.sql.adaptive.enabled', 'false') \\\n",
    "    .getOrCreate()\n",
    "\n",
    "spark"
   ]
  },
  {
   "cell_type": "code",
   "execution_count": 2,
   "id": "02cb36a4",
   "metadata": {},
   "outputs": [],
   "source": [
    "# Imports\n",
    "from pyspark.sql.functions import pandas_udf\n",
    "from pyspark.sql.types import StringType, IntegerType, DoubleType\n",
    "import pandas as pd\n",
    "\n",
    "from pyspark.sql.window import Window\n",
    "from pyspark.sql.functions import col, row_number\n",
    "\n",
    "from pyspark.sql.column import Column\n",
    "from pyspark.sql.column import _to_java_column\n",
    "from pyspark.sql.column import _to_seq\n",
    "from pyspark.sql import SparkSession\n",
    "from pyspark.sql.functions import col\n",
    "from pyspark.sql.functions import *\n",
    "from pyspark.sql.types import IntegerType\n",
    "import timeit"
   ]
  },
  {
   "cell_type": "code",
   "execution_count": 3,
   "id": "1c2a19f1-09d4-433b-bb14-495e1f69bf43",
   "metadata": {},
   "outputs": [],
   "source": [
    "videos = spark.read.option('header', 'true').option(\"inferSchema\", \"true\").csv('../datasets/USvideos.csv')\n",
    "# videos.show()"
   ]
  },
  {
   "cell_type": "code",
   "execution_count": 4,
   "id": "805005cc-0c92-45e3-ab79-44a348f9c2d3",
   "metadata": {},
   "outputs": [],
   "source": [
    "comments_schema = StructType([ \\\n",
    "    StructField(\"video_id\", StringType(), True), \\\n",
    "    StructField(\"comment_text\", StringType(), True), \\\n",
    "    StructField(\"likes\", IntegerType(), True), \\\n",
    "    StructField(\"replies\", IntegerType(), True)])\n",
    "comments = spark.read.option('header', 'true').option(\"mode\", \"DROPMALFORMED\").schema(comments_schema).csv('../datasets/UScomments.csv')\n",
    "# comments.show()"
   ]
  },
  {
   "cell_type": "code",
   "execution_count": 5,
   "id": "8a3377b8",
   "metadata": {},
   "outputs": [],
   "source": [
    "category = (spark.read.option(\"multiline\",\"true\")\n",
    "                .json(\"../datasets/US_category_id.json\")\n",
    "                .select(explode(\"items\"))\n",
    "                .select(col(\"col.id\").alias(\"id\"),col(\"col.snippet.title\").alias(\"category\"))\n",
    "     )"
   ]
  },
  {
   "cell_type": "code",
   "execution_count": 6,
   "id": "ce69391e",
   "metadata": {},
   "outputs": [],
   "source": [
    "# !pip install --no-cache-dir matplotlib\n",
    "# !pip install --no-cache-dir seaborn"
   ]
  },
  {
   "attachments": {},
   "cell_type": "markdown",
   "id": "971bb6ab",
   "metadata": {},
   "source": [
    "# Проверка распределения количества коментаникв у роликов"
   ]
  },
  {
   "cell_type": "code",
   "execution_count": 7,
   "id": "41b81808",
   "metadata": {},
   "outputs": [
    {
     "data": {
      "text/plain": [
       "Text(0, 0.5, 'Count video')"
      ]
     },
     "execution_count": 7,
     "metadata": {},
     "output_type": "execute_result"
    },
    {
     "data": {
      "image/png": "[encoded data removed]",
      "text/plain": [
       "<Figure size 1170x827 with 1 Axes>"
      ]
     },
     "metadata": {},
     "output_type": "display_data"
    }
   ],
   "source": [
    "# Import the libraries\n",
    "import matplotlib.pyplot as plt\n",
    "import seaborn as sns\n",
    "\n",
    "pandasDF = comments.groupby(col('video_id')).count().toPandas()\n",
    "\n",
    "a4_dims = (11.7, 8.27)\n",
    "fig, ax = plt.subplots(figsize=a4_dims)\n",
    "\n",
    "# seaborn histogram\n",
    "sns.histplot(pandasDF[\"count\"]\n",
    "             , ax=ax\n",
    "             , kde=False\n",
    "             , bins=int(1000/5)\n",
    "             , alpha = 0.5\n",
    "             )\n",
    "\n",
    "# Add labels\n",
    "plt.title('Histogram of the number of comments')\n",
    "plt.xlabel('Count comments')\n",
    "plt.ylabel('Count video')"
   ]
  },
  {
   "attachments": {},
   "cell_type": "markdown",
   "id": "7264da77",
   "metadata": {},
   "source": [
    "# Пункт 1"
   ]
  },
  {
   "cell_type": "code",
   "execution_count": 8,
   "id": "4d4d2858",
   "metadata": {},
   "outputs": [],
   "source": [
    "# Так как количество коментариев распределено неравномерно можно применить оптимизацию с добавлением соли\n",
    "\n",
    "comments_salt = comments.withColumn('salt', (rand() * 3).cast('int'))\n",
    "\n",
    "videos_salt = videos \\\n",
    "    .withColumn(\"salt\", explode(array([lit(i) for i in [0, 1, 2]])))\n",
    "\n",
    "scored_videos_bfr_agg = (videos_salt\n",
    "                .join(comments_salt, ['video_id', 'salt'],\"left\")\n",
    "                .select(\n",
    "                       videos_salt['video_id']\n",
    "                       , videos_salt['title']\n",
    "                       , videos_salt['channel_title']\n",
    "                       , videos_salt['category_id']\n",
    "                       , videos_salt['tags']\n",
    "                       , videos_salt['views']\n",
    "                       , videos_salt['likes']\n",
    "                       , videos_salt['dislikes']\n",
    "                       , videos_salt['comment_total']\n",
    "                       , videos_salt['thumbnail_link']\n",
    "                       , to_date(concat(videos_salt['date'],lit(\".2023\")),\"dd.MM.yyyy\").alias(\"date\")\n",
    "                       , comments_salt['comment_text']\n",
    "                       , comments_salt['likes'].alias(\"commnet_likes\")\n",
    "                       , comments_salt['replies'].alias(\"commnet_replies\")\n",
    "                )\n",
    "                .drop('salt'))"
   ]
  },
  {
   "cell_type": "code",
   "execution_count": 9,
   "id": "e4631065",
   "metadata": {},
   "outputs": [
    {
     "name": "stdout",
     "output_type": "stream",
     "text": [
      "+-----------+--------------------+-----+-------+----+\n",
      "|   video_id|        comment_text|likes|replies|salt|\n",
      "+-----------+--------------------+-----+-------+----+\n",
      "|XpVt6Z1Gjjo|Logan Paul it's y...|    4|      0|   0|\n",
      "|XpVt6Z1Gjjo|I've been followi...|    3|      0|   2|\n",
      "+-----------+--------------------+-----+-------+----+\n",
      "only showing top 2 rows\n",
      "\n"
     ]
    }
   ],
   "source": [
    "comments_salt.show(2)"
   ]
  },
  {
   "cell_type": "code",
   "execution_count": 10,
   "id": "916a7b9d",
   "metadata": {},
   "outputs": [],
   "source": [
    "@pandas_udf(DoubleType())\n",
    "def calc_score(views: pd.Series, likes: pd.Series, dislikes: pd.Series, commnet_likes: pd.Series, commnet_replies: pd.Series) -> pd.Series:\n",
    "    return (views + commnet_likes + commnet_replies) / dislikes * likes\n",
    "\n",
    "# Using UDF with select()\n",
    "# scored_videos.select(to_upper(\"views\",\"likes\",\"dislikes\",\"commnet_likes\",\"commnet_replies\")).show()\n",
    "\n",
    "# Using UDF with withColumn()\n",
    "# scored_videos.withColumn(\"upper_col\",to_upper(\"views\",\"likes\",\"dislikes\",\"commnet_likes\",\"commnet_replies\")).show()"
   ]
  },
  {
   "cell_type": "code",
   "execution_count": 19,
   "id": "40c4eb04",
   "metadata": {},
   "outputs": [
    {
     "name": "stdout",
     "output_type": "stream",
     "text": [
      "+-----------+--------------------+----------------+-----------+--------------------+-------+------+--------+-------------+--------------------+----------+---------+\n",
      "|   video_id|               title|   channel_title|category_id|                tags|  views| likes|dislikes|comment_total|      thumbnail_link|      date|    score|\n",
      "+-----------+--------------------+----------------+-----------+--------------------+-------+------+--------+-------------+--------------------+----------+---------+\n",
      "|4yCkkOvIkUI|EXCLUSIVE: Zonniq...|        YBF Chic|         24|              [none]|   5662|    33|      21|           13|https://i.ytimg.c...|2023-10-06|     9011|\n",
      "|7TN09IP5JuI|Terry Crews Hallu...|  First We Feast|         26|First we feast|fw...|5066207|196868|    2083|        22920|https://i.ytimg.c...|2023-10-10|478822576|\n",
      "|Bo-qp-Zu0OY|Meeting Talking D...|    TouringPlans|         19|talking mickey|ta...|  21654|   179|       1|           30|https://i.ytimg.c...|2023-09-30|  3901484|\n",
      "|JkqTeQHFoBY|Guardians of the ...|      Framestore|          1|marvel|vfx|CG|CGI...| 138900|  1573|      14|           84|https://i.ytimg.c...|2023-10-04| 15731798|\n",
      "|K7pQsR8WFSo|Schlieren Imaging...|      Veritasium|         27|veritasium|scienc...| 633374| 29671|     284|         2200|https://i.ytimg.c...|2023-10-05| 66193703|\n",
      "|RE-far-FvRs|PUPPIES FIRST BAT...|      VLOGTOWSKI|         22|vlog|family vlog|...| 323280| 13781|     292|         2024|https://i.ytimg.c...|2023-10-12| 15261042|\n",
      "|TzyraAp3jaY|Martin Scorsese T...|     MasterClass|         27|Martin Scorsese|f...|  84257|   842|       1|           98|https://i.ytimg.c...|2023-09-26| 72840578|\n",
      "|WQjO1mMCPg4|EVERY MCDONALD'S ...|           Smosh|         23|mcdonalds|drive t...|2318203| 64553|    6770|         7843|https://i.ytimg.c...|2023-10-15| 22105588|\n",
      "|_r5eTelhpmQ|Darius Rucker - L...|DariusRuckerVEVO|         10|Darius|Rucker|Lif...|  51914|  1880|      49|          102|https://i.ytimg.c...|2023-10-04|  2049277|\n",
      "|aRgTLb5EbiQ| My Mama Wears Timbs|        Ari Fitz|         26|itsarifitz|ari fi...|  22165|  2643|      12|          259|https://i.ytimg.c...|2023-10-16|  5205609|\n",
      "+-----------+--------------------+----------------+-----------+--------------------+-------+------+--------+-------------+--------------------+----------+---------+\n",
      "only showing top 10 rows\n",
      "\n"
     ]
    }
   ],
   "source": [
    "windowDate = Window.partitionBy(\"video_id\").orderBy(col(\"date\").desc())\n",
    "\n",
    "\n",
    "scored_videos = (scored_videos_bfr_agg.groupBy(\"video_id\"\n",
    "                       , \"title\"\n",
    "                       , \"channel_title\"\n",
    "                       , \"category_id\"\n",
    "                       , \"tags\"\n",
    "                       , \"views\"\n",
    "                       , \"likes\"\n",
    "                       , \"dislikes\"\n",
    "                       , \"comment_total\"\n",
    "                       , \"thumbnail_link\"\n",
    "                       , \"date\")\n",
    "                       .agg(sum(\"commnet_likes\").alias(\"sum_likes\"),         \n",
    "                            sum(\"commnet_replies\").alias(\"sum_replies\")\n",
    "                           )\n",
    "                       .withColumn(\"row\",row_number().over(windowDate))\n",
    "                       .filter(col(\"row\") == 1)\n",
    "                       .drop(\"row\")\n",
    "                       .withColumn(\"score\" \n",
    "                                   , round(calc_score(\"views\"\n",
    "                                                , \"likes\"\n",
    "                                                , \"dislikes\"\n",
    "                                                , \"sum_likes\"\n",
    "                                                , \"sum_likes\"\n",
    "                                           ), 0).cast(IntegerType())\n",
    "                       )\n",
    "                       .drop(\"sum_likes\")\n",
    "                       .drop(\"sum_replies\")\n",
    ")\n",
    "\n",
    "scored_videos.show(10)"
   ]
  },
  {
   "attachments": {},
   "cell_type": "markdown",
   "id": "d562917b",
   "metadata": {},
   "source": [
    "# Пункт 2"
   ]
  },
  {
   "cell_type": "code",
   "execution_count": 12,
   "id": "417db804",
   "metadata": {},
   "outputs": [],
   "source": [
    "def get_median(df: pd.DataFrame) -> pd.DataFrame:\n",
    "    return pd.DataFrame(df.groupby([\"category\"])[\"score\"].median()).reset_index() "
   ]
  },
  {
   "cell_type": "code",
   "execution_count": 13,
   "id": "7f390516",
   "metadata": {},
   "outputs": [
    {
     "name": "stdout",
     "output_type": "stream",
     "text": [
      "+--------------------+----------+\n",
      "|            category|     score|\n",
      "+--------------------+----------+\n",
      "|               Shows|    113341|\n",
      "|           Education|  14420106|\n",
      "|              Gaming|   7802270|\n",
      "|       Entertainment|  11426582|\n",
      "|     Travel & Events|  12359104|\n",
      "|Science & Technology|  11559558|\n",
      "|              Sports|   3406357|\n",
      "|       Howto & Style|  13730344|\n",
      "|Nonprofits & Acti...|1074189006|\n",
      "|    Film & Animation|  13132268|\n",
      "|      People & Blogs|  10955716|\n",
      "|     News & Politics|    926484|\n",
      "|      Pets & Animals|  15239595|\n",
      "|    Autos & Vehicles|   5718967|\n",
      "|               Music|  16500100|\n",
      "|              Comedy|  23844659|\n",
      "+--------------------+----------+\n",
      "\n"
     ]
    }
   ],
   "source": [
    "# так как таблица category маленькая ее можно заброадкастить\n",
    "bc_category = broadcast(category)\n",
    "\n",
    "categories_score = (scored_videos \n",
    "    .join(bc_category, scored_videos['category_id'] == bc_category['id']) \n",
    "    .select(bc_category[\"category\"],scored_videos[\"score\"])\n",
    "    .groupby(\"category\").applyInPandas(get_median, \"category string, score int\")\n",
    ")\n",
    "\n",
    "categories_score.show(100)\n",
    "\n",
    "# categories_score.show()"
   ]
  },
  {
   "attachments": {},
   "cell_type": "markdown",
   "id": "6b47491d",
   "metadata": {},
   "source": [
    "# Пункт 3"
   ]
  },
  {
   "cell_type": "code",
   "execution_count": 14,
   "id": "6315a783",
   "metadata": {},
   "outputs": [
    {
     "data": {
      "text/plain": [
       "0.2454037030111067"
      ]
     },
     "execution_count": 14,
     "metadata": {},
     "output_type": "execute_result"
    }
   ],
   "source": [
    "sc = spark.sparkContext\n",
    "\n",
    "def udfSplitTagsUDFScalaWrapper(ipString):\n",
    "    _splitTagsUDF = sc._jvm.CustomUDFs.splitTagsUDF()\n",
    "    return Column(_splitTagsUDF.apply(_to_seq(sc, [ipString], _to_java_column)))\n",
    "\n",
    "split_tags = videos.select(\"tags\",udfSplitTagsUDFScalaWrapper(col(\"tags\")).alias(\"split_tags_scala\"))\n",
    "\n",
    "timeit.timeit('split_tags.count()', number=1, globals=globals())"
   ]
  },
  {
   "cell_type": "code",
   "execution_count": 15,
   "id": "48de1019",
   "metadata": {},
   "outputs": [
    {
     "data": {
      "text/plain": [
       "0.17867142500472255"
      ]
     },
     "execution_count": 15,
     "metadata": {},
     "output_type": "execute_result"
    }
   ],
   "source": [
    "@pandas_udf(ArrayType(StringType()))\n",
    "def split_string(column: pd.Series) -> pd.Series:\n",
    "    return column.str.split(\"|\")\n",
    "\n",
    "\n",
    "split_tags = videos.select(split_string(\"tags\").alias(\"tags\"))\n",
    "\n",
    "timeit.timeit('split_tags.count()', number=1, globals=globals())"
   ]
  },
  {
   "cell_type": "code",
   "execution_count": 16,
   "id": "337468b0",
   "metadata": {},
   "outputs": [
    {
     "name": "stdout",
     "output_type": "stream",
     "text": [
      "+--------+-----+\n",
      "|     tag|count|\n",
      "+--------+-----+\n",
      "|   funny|  722|\n",
      "|  comedy|  572|\n",
      "|    2017|  309|\n",
      "|  how to|  284|\n",
      "|    vlog|  273|\n",
      "|   humor|  258|\n",
      "|  makeup|  254|\n",
      "|   music|  250|\n",
      "|tutorial|  235|\n",
      "|    food|  224|\n",
      "+--------+-----+\n",
      "only showing top 10 rows\n",
      "\n"
     ]
    }
   ],
   "source": [
    "popular_tags = (split_tags\n",
    " .select(explode(\"tags\").alias(\"tag\"))\n",
    " .where(\"tag != '[none]'\")\n",
    " .groupBy(\"tag\").count()\n",
    " .sort(col(\"count\").desc())\n",
    " )\n",
    "\n",
    "popular_tags.show(10)\n"
   ]
  },
  {
   "attachments": {},
   "cell_type": "markdown",
   "id": "a40f9ab0",
   "metadata": {},
   "source": [
    "# Пункт 4"
   ]
  },
  {
   "cell_type": "code",
   "execution_count": 18,
   "id": "503dfdd9",
   "metadata": {},
   "outputs": [
    {
     "name": "stdout",
     "output_type": "stream",
     "text": [
      "+-------------------------------------------------------------------------------------------------------------------------------------------------------------------------------------------------------------------------------------------------------------------------------------------------------------------------------------------------------------------------------------------------------+-----+\n",
      "|comment_text                                                                                                                                                                                                                                                                                                                                                                                           |count|\n",
      "+-------------------------------------------------------------------------------------------------------------------------------------------------------------------------------------------------------------------------------------------------------------------------------------------------------------------------------------------------------------------------------------------------------+-----+\n",
      "|SIMON...PLEASE PLEASE ...make more of your cats adventures videos...I do like the ones with the vet, but I have rewatched all your oldie goldies...thank you for all your videos                                                                                                                                                                                                                       |25   |\n",
      "|During the winter when my cats can't go outside, Jasmine likes to take a ball with a bell in it, drop it down the basement steps and chase after it. She'll carry it and bring it up stairs again until she's bored.                                                                                                                                                                                   |25   |\n",
      "|Ah! My cat loves most play but her favourite is also a piece if string or the laser toy! She reacts just like Hugh! :-) I rattle the key ring & she comes darting out from wherever she has been! If it's not playtime & I'm just trying to move the toy from one place to another I have to pick it up super carefully or the smallest little sound from it has her darting ahead wanting to play! :-D|25   |\n",
      "|My cat started having brief seizures from the quick movements of the laser pointer so we no longer use it. Also, always put string away so your kitty won't swallow it.                                                                                                                                                                                                                                |25   |\n",
      "|No need to buy toys for cats. They will play with just about anything.                                                                                                                                                                                                                                                                                                                                 |25   |\n",
      "+-------------------------------------------------------------------------------------------------------------------------------------------------------------------------------------------------------------------------------------------------------------------------------------------------------------------------------------------------------------------------------------------------------+-----+\n",
      "only showing top 5 rows\n",
      "\n"
     ]
    }
   ],
   "source": [
    "top_cat_comments = (scored_videos_bfr_agg\n",
    " .select(\"comment_text\",\"commnet_likes\",split_string(\"tags\").alias(\"tags\"))\n",
    " .select(\"comment_text\",\"commnet_likes\",explode(\"tags\").alias(\"tag\"))\n",
    " .where(\"tag = 'cat'\")\n",
    " .groupBy(\"comment_text\").count()\n",
    " .sort(col(\"count\").desc())\n",
    ")\n",
    "\n",
    "top_cat_comments.show(5,False)"
   ]
  }
 ],
 "metadata": {
  "kernelspec": {
   "display_name": "Python 3 (ipykernel)",
   "language": "python",
   "name": "python3"
  },
  "language_info": {
   "codemirror_mode": {
    "name": "ipython",
    "version": 3
   },
   "file_extension": ".py",
   "mimetype": "text/x-python",
   "name": "python",
   "nbconvert_exporter": "python",
   "pygments_lexer": "ipython3",
   "version": "3.11.3"
  }
 },
 "nbformat": 4,
 "nbformat_minor": 5
}
