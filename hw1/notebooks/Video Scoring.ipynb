{
 "cells": [
  {
   "cell_type": "code",
   "execution_count": 26,
   "id": "4b94b2e0-3796-411b-ad82-1b56e7f89e1f",
   "metadata": {},
   "outputs": [
    {
     "data": {
      "text/html": [
       "\n",
       "            <div>\n",
       "                <p><b>SparkSession - in-memory</b></p>\n",
       "                \n",
       "        <div>\n",
       "            <p><b>SparkContext</b></p>\n",
       "\n",
       "            <p><a href=\"http://ec4eafc64606:4040\">Spark UI</a></p>\n",
       "\n",
       "            <dl>\n",
       "              <dt>Version</dt>\n",
       "                <dd><code>v3.4.0</code></dd>\n",
       "              <dt>Master</dt>\n",
       "                <dd><code>local</code></dd>\n",
       "              <dt>AppName</dt>\n",
       "                <dd><code>pyspark-shell</code></dd>\n",
       "            </dl>\n",
       "        </div>\n",
       "        \n",
       "            </div>\n",
       "        "
      ],
      "text/plain": [
       "<pyspark.sql.session.SparkSession at 0x7f4b7730b810>"
      ]
     },
     "execution_count": 26,
     "metadata": {},
     "output_type": "execute_result"
    }
   ],
   "source": [
    "import pyspark\n",
    "from pyspark.sql.functions import *\n",
    "from pyspark.sql.types import *\n",
    "from pyspark.sql import SparkSession\n",
    "\n",
    "spark = SparkSession.builder.master(\"local\") \\\n",
    "    .config('spark.sql.autoBroadcastJoinThreshold', 0) \\\n",
    "    .config('spark.sql.adaptive.enabled', 'false') \\\n",
    "    .getOrCreate()\n",
    "\n",
    "spark"
   ]
  },
  {
   "cell_type": "code",
   "execution_count": 27,
   "id": "02cb36a4",
   "metadata": {},
   "outputs": [],
   "source": [
    "# Imports\n",
    "from pyspark.sql.functions import pandas_udf\n",
    "from pyspark.sql.types import StringType, IntegerType, DoubleType\n",
    "import pandas as pd\n",
    "\n",
    "from pyspark.sql.window import Window\n",
    "from pyspark.sql.functions import col, row_number, sum\n",
    "\n",
    "from pyspark.sql.column import Column\n",
    "from pyspark.sql.column import _to_java_column\n",
    "from pyspark.sql.column import _to_seq\n",
    "from pyspark.sql.functions import *\n",
    "from pyspark.sql.types import IntegerType\n",
    "import timeit"
   ]
  },
  {
   "cell_type": "code",
   "execution_count": 28,
   "id": "1c2a19f1-09d4-433b-bb14-495e1f69bf43",
   "metadata": {},
   "outputs": [],
   "source": [
    "videos = spark.read.option('header', 'true').option(\"inferSchema\", \"true\").csv('../datasets/USvideos.csv')\n",
    "# videos.show()"
   ]
  },
  {
   "cell_type": "code",
   "execution_count": 29,
   "id": "805005cc-0c92-45e3-ab79-44a348f9c2d3",
   "metadata": {},
   "outputs": [],
   "source": [
    "comments_schema = StructType([ \\\n",
    "    StructField(\"video_id\", StringType(), True), \\\n",
    "    StructField(\"comment_text\", StringType(), True), \\\n",
    "    StructField(\"likes\", IntegerType(), True), \\\n",
    "    StructField(\"replies\", IntegerType(), True)])\n",
    "comments = spark.read.option('header', 'true').option(\"mode\", \"DROPMALFORMED\").schema(comments_schema).csv('../datasets/UScomments.csv')\n",
    "# comments.show()"
   ]
  },
  {
   "cell_type": "code",
   "execution_count": 30,
   "id": "8a3377b8",
   "metadata": {},
   "outputs": [],
   "source": [
    "category = (spark.read.option(\"multiline\",\"true\")\n",
    "                .json(\"../datasets/US_category_id.json\")\n",
    "                .select(explode(\"items\"))\n",
    "                .select(col(\"col.id\").alias(\"id\"),col(\"col.snippet.title\").alias(\"category\"))\n",
    "     )"
   ]
  },
  {
   "cell_type": "code",
   "execution_count": 31,
   "id": "ce69391e",
   "metadata": {},
   "outputs": [],
   "source": [
    "# !pip install --no-cache-dir matplotlib\n",
    "# !pip install --no-cache-dir seaborn"
   ]
  },
  {
   "attachments": {},
   "cell_type": "markdown",
   "id": "7264da77",
   "metadata": {},
   "source": [
    "# Пункт 1"
   ]
  },
  {
   "cell_type": "code",
   "execution_count": 32,
   "id": "3ab17328",
   "metadata": {},
   "outputs": [],
   "source": [
    "# !mkdir -p /home/jovyan/notebooks/spark-warehouse\n",
    "# !pwd\n",
    "# !ls -lah /home/jovyan/notebooks/\n",
    "# !cd ..\n",
    "# !chmod -R 777 /home/jovyan/notebooks\n"
   ]
  },
  {
   "cell_type": "code",
   "execution_count": 33,
   "id": "2dae2890",
   "metadata": {},
   "outputs": [],
   "source": [
    "videos.write \\\n",
    "    .bucketBy(16, \"video_id\") \\\n",
    "    .saveAsTable('videos_bucketed', format='csv', mode='overwrite',path='file:///home/jovyan/tables/videos_bucketed')\n",
    "    \n",
    "comments.write \\\n",
    "    .bucketBy(16, \"video_id\") \\\n",
    "    .saveAsTable('comments_bucketed', format='csv', mode='overwrite',path='file:///home/jovyan/tables/comments_bucketed')\n",
    "\n",
    "\n",
    "videos_bucketed = spark.table('videos_bucketed')\n",
    "comments_bucketed = spark.table('comments_bucketed')"
   ]
  },
  {
   "cell_type": "code",
   "execution_count": 34,
   "id": "4d4d2858",
   "metadata": {},
   "outputs": [],
   "source": [
    "scored_videos_bfr_agg = (videos_bucketed\n",
    "                .join(comments_bucketed, ['video_id'],\"left\")\n",
    "                .select(\n",
    "                       videos_bucketed['video_id']\n",
    "                       , videos_bucketed['title']\n",
    "                       , videos_bucketed['channel_title']\n",
    "                       , videos_bucketed['category_id']\n",
    "                       , videos_bucketed['tags']\n",
    "                       , videos_bucketed['views']\n",
    "                       , videos_bucketed['likes']\n",
    "                       , videos_bucketed['dislikes']\n",
    "                       , videos_bucketed['comment_total']\n",
    "                       , videos_bucketed['thumbnail_link']\n",
    "                       , to_date(concat(videos_bucketed['date'],lit(\".2023\")),\"dd.MM.yyyy\").alias(\"date\")\n",
    "                       , comments_bucketed['comment_text']\n",
    "                       , comments_bucketed['likes'].alias(\"commnet_likes\")\n",
    "                       , comments_bucketed['replies'].alias(\"commnet_replies\")\n",
    "                )\n",
    "                )"
   ]
  },
  {
   "cell_type": "code",
   "execution_count": 35,
   "id": "916a7b9d",
   "metadata": {},
   "outputs": [],
   "source": [
    "@pandas_udf(DoubleType())\n",
    "def calc_score(views: pd.Series, likes: pd.Series, dislikes: pd.Series, commnet_likes: pd.Series, commnet_replies: pd.Series) -> pd.Series:\n",
    "    return (views + commnet_likes + commnet_replies) / dislikes * likes\n",
    "\n",
    "# Using UDF with select()\n",
    "# scored_videos.select(to_upper(\"views\",\"likes\",\"dislikes\",\"commnet_likes\",\"commnet_replies\")).show()\n",
    "\n",
    "# Using UDF with withColumn()\n",
    "# scored_videos.withColumn(\"upper_col\",to_upper(\"views\",\"likes\",\"dislikes\",\"commnet_likes\",\"commnet_replies\")).show()"
   ]
  },
  {
   "cell_type": "code",
   "execution_count": 36,
   "id": "40c4eb04",
   "metadata": {},
   "outputs": [
    {
     "name": "stdout",
     "output_type": "stream",
     "text": [
      "+-----------+--------------------+--------------------+-----------+--------------------+-------+-----+--------+-------------+--------------------+----------+--------+\n",
      "|   video_id|               title|       channel_title|category_id|                tags|  views|likes|dislikes|comment_total|      thumbnail_link|      date|   score|\n",
      "+-----------+--------------------+--------------------+-----------+--------------------+-------+-----+--------+-------------+--------------------+----------+--------+\n",
      "|--JinobXWPk|DANGEROUS Jungle ...|    Brave Wilderness|         15|adventure|adventu...|1319945|38949|     533|         6768|https://i.ytimg.c...|2023-10-20|96457820|\n",
      "|-LoSw4o2zDQ|How to Make Pushe...|    kawaiisweetworld|         26|recipe|recipes|ho...|  62600| 4715|      29|          483|https://i.ytimg.c...|2023-10-14|10362269|\n",
      "|0lDRz8qmXpE|Standing Up For Y...|        CollegeHumor|         23|Collegehumor|CH o...| 467127|24509|    2302|         3058|https://i.ytimg.c...|2023-10-15| 4975593|\n",
      "|1KCZHHMZVGQ|Adam Ruins Everyt...|               truTV|         24|“truTv|Shows”|”tr...| 245620| 3772|     223|          556|https://i.ytimg.c...|2023-10-17| 4161717|\n",
      "|1eQXF7JbbGE|Vanessa​ and​ Mak...|Dancing With The ...|         24|abc|dancing|with|...|   9761|  179|       7|           59|https://i.ytimg.c...|2023-10-03|  256660|\n",
      "|2HcqS508lIo|The US Military's...|    Real Engineering|         28|railgun|military|...| 740821|18808|     585|          678|https://i.ytimg.c...|2023-10-19|23889279|\n",
      "|2Hz4sDjXPQY|Kingsman: The Gol...|    20th Century Fox|          1|Puppy|Spy Movies|...| 288222| 2003|      77|          208|https://i.ytimg.c...|2023-09-21| 7689595|\n",
      "|2LkEa-JV9Kc|It’s Hard to Make...|        CollegeHumor|         23|Collegehumor|CH o...| 508618|17652|     468|          854|https://i.ytimg.c...|2023-10-12|19188101|\n",
      "|2YGrrsKs-Xg|Jimmy Kimmel’s FU...|   Jimmy Kimmel Live|         23|jimmy|jimmy kimme...|1287641|14600|    1220|         2294|https://i.ytimg.c...|2023-10-19|15409690|\n",
      "|3TDk34hnSXc|The 64 Day Longes...| Half as Interesting|         27|flight|endurance|...| 110725| 5796|      81|          574|https://i.ytimg.c...|2023-09-19| 7974938|\n",
      "+-----------+--------------------+--------------------+-----------+--------------------+-------+-----+--------+-------------+--------------------+----------+--------+\n",
      "only showing top 10 rows\n",
      "\n"
     ]
    }
   ],
   "source": [
    "windowDate = Window.partitionBy(\"video_id\").orderBy(col(\"date\").desc())\n",
    "\n",
    "\n",
    "scored_videos = (scored_videos_bfr_agg.groupBy(\"video_id\"\n",
    "                       , \"title\"\n",
    "                       , \"channel_title\"\n",
    "                       , \"category_id\"\n",
    "                       , \"tags\"\n",
    "                       , \"views\"\n",
    "                       , \"likes\"\n",
    "                       , \"dislikes\"\n",
    "                       , \"comment_total\"\n",
    "                       , \"thumbnail_link\"\n",
    "                       , \"date\")\n",
    "                       .agg(sum(\"commnet_likes\").alias(\"sum_likes\"),         \n",
    "                            sum(\"commnet_replies\").alias(\"sum_replies\")\n",
    "                           )\n",
    "                       .withColumn(\"row\",row_number().over(windowDate))\n",
    "                       .filter(col(\"row\") == 1)\n",
    "                       .drop(\"row\")\n",
    "                       .withColumn(\"score\" \n",
    "                                   , round(calc_score(\"views\"\n",
    "                                                , \"likes\"\n",
    "                                                , \"dislikes\"\n",
    "                                                , \"sum_likes\"\n",
    "                                                , \"sum_likes\"\n",
    "                                           ), 0).cast(IntegerType())\n",
    "                       )\n",
    "                       .drop(\"sum_likes\")\n",
    "                       .drop(\"sum_replies\")\n",
    ")\n",
    "\n",
    "scored_videos.show(10)"
   ]
  },
  {
   "attachments": {},
   "cell_type": "markdown",
   "id": "d562917b",
   "metadata": {},
   "source": [
    "# Пункт 2"
   ]
  },
  {
   "cell_type": "code",
   "execution_count": 37,
   "id": "417db804",
   "metadata": {},
   "outputs": [],
   "source": [
    "def get_median(df: pd.DataFrame) -> pd.DataFrame:\n",
    "    return pd.DataFrame(df.groupby([\"category\"])[\"score\"].median()).reset_index() "
   ]
  },
  {
   "cell_type": "code",
   "execution_count": 38,
   "id": "7f390516",
   "metadata": {},
   "outputs": [
    {
     "name": "stdout",
     "output_type": "stream",
     "text": [
      "+--------------------+----------+\n",
      "|            category|     score|\n",
      "+--------------------+----------+\n",
      "|               Shows|    113341|\n",
      "|           Education|  14420106|\n",
      "|              Gaming|   7802270|\n",
      "|       Entertainment|  11426582|\n",
      "|     Travel & Events|  12359104|\n",
      "|Science & Technology|  11559558|\n",
      "|              Sports|   3406357|\n",
      "|       Howto & Style|  13730344|\n",
      "|Nonprofits & Acti...|1074189006|\n",
      "|    Film & Animation|  13132268|\n",
      "|      People & Blogs|  10955716|\n",
      "|     News & Politics|    926484|\n",
      "|      Pets & Animals|  15239595|\n",
      "|    Autos & Vehicles|   5718967|\n",
      "|               Music|  16500100|\n",
      "|              Comedy|  23844659|\n",
      "+--------------------+----------+\n",
      "\n"
     ]
    }
   ],
   "source": [
    "# так как таблица category маленькая ее можно заброадкастить\n",
    "bc_category = broadcast(category)\n",
    "\n",
    "categories_score = (scored_videos \n",
    "    .join(bc_category, scored_videos['category_id'] == bc_category['id']) \n",
    "    .select(bc_category[\"category\"],scored_videos[\"score\"])\n",
    "    .groupby(\"category\").applyInPandas(get_median, \"category string, score int\")\n",
    ")\n",
    "\n",
    "categories_score.show(100)\n",
    "\n",
    "# categories_score.show()"
   ]
  },
  {
   "attachments": {},
   "cell_type": "markdown",
   "id": "6b47491d",
   "metadata": {},
   "source": [
    "# Пункт 3"
   ]
  },
  {
   "cell_type": "code",
   "execution_count": 39,
   "id": "6315a783",
   "metadata": {},
   "outputs": [
    {
     "data": {
      "text/plain": [
       "0.17926490550016752"
      ]
     },
     "execution_count": 39,
     "metadata": {},
     "output_type": "execute_result"
    }
   ],
   "source": [
    "sc = spark.sparkContext\n",
    "n = 20\n",
    "\n",
    "def udfSplitTagsUDFScalaWrapper(ipString):\n",
    "    _splitTagsUDF = sc._jvm.CustomUDFs.splitTagsUDF()\n",
    "    return Column(_splitTagsUDF.apply(_to_seq(sc, [ipString], _to_java_column)))\n",
    "\n",
    "split_tags = videos.select(\"tags\",udfSplitTagsUDFScalaWrapper(col(\"tags\")).alias(\"split_tags_scala\"))\n",
    "\n",
    "timeit.timeit('split_tags.count()', number=n, globals=globals())/n"
   ]
  },
  {
   "cell_type": "code",
   "execution_count": 40,
   "id": "48de1019",
   "metadata": {},
   "outputs": [
    {
     "data": {
      "text/plain": [
       "0.18536641635000706"
      ]
     },
     "execution_count": 40,
     "metadata": {},
     "output_type": "execute_result"
    }
   ],
   "source": [
    "@pandas_udf(ArrayType(StringType()))\n",
    "def split_string(column: pd.Series) -> pd.Series:\n",
    "    return column.str.split(\"|\")\n",
    "\n",
    "\n",
    "split_tags = videos.select(split_string(\"tags\").alias(\"tags\"))\n",
    "\n",
    "timeit.timeit('split_tags.count()', number=n, globals=globals())/n"
   ]
  },
  {
   "cell_type": "code",
   "execution_count": 41,
   "id": "337468b0",
   "metadata": {},
   "outputs": [
    {
     "name": "stdout",
     "output_type": "stream",
     "text": [
      "+--------+-----+\n",
      "|     tag|count|\n",
      "+--------+-----+\n",
      "|   funny|  722|\n",
      "|  comedy|  572|\n",
      "|    2017|  309|\n",
      "|  how to|  284|\n",
      "|    vlog|  273|\n",
      "|   humor|  258|\n",
      "|  makeup|  254|\n",
      "|   music|  250|\n",
      "|tutorial|  235|\n",
      "|    food|  224|\n",
      "+--------+-----+\n",
      "only showing top 10 rows\n",
      "\n"
     ]
    }
   ],
   "source": [
    "popular_tags = (split_tags\n",
    " .select(explode(\"tags\").alias(\"tag\"))\n",
    " .where(\"tag != '[none]'\")\n",
    " .groupBy(\"tag\").count()\n",
    " .sort(col(\"count\").desc())\n",
    " )\n",
    "\n",
    "popular_tags.show(10)\n"
   ]
  },
  {
   "attachments": {},
   "cell_type": "markdown",
   "id": "a40f9ab0",
   "metadata": {},
   "source": [
    "# Пункт 4"
   ]
  },
  {
   "cell_type": "code",
   "execution_count": 42,
   "id": "9450a1a7",
   "metadata": {},
   "outputs": [
    {
     "name": "stdout",
     "output_type": "stream",
     "text": [
      "+-----------+--------------------+----------------+-----------+--------------------+-------+------+--------+-------------+--------------------+-----+\n",
      "|   video_id|               title|   channel_title|category_id|                tags|  views| likes|dislikes|comment_total|      thumbnail_link| date|\n",
      "+-----------+--------------------+----------------+-----------+--------------------+-------+------+--------+-------------+--------------------+-----+\n",
      "|XpVt6Z1Gjjo|1 YEAR OF VLOGGIN...|Logan Paul Vlogs|         24|logan paul vlog|l...|4394029|320053|    5931|        46245|https://i.ytimg.c...|13.09|\n",
      "|K4wEI5zhHB0|iPhone X — Introd...|           Apple|         28|Apple|iPhone 10|i...|7860119|185853|   26679|            0|https://i.ytimg.c...|13.09|\n",
      "|cLdxuaxaQwc|         My Response|       PewDiePie|         22|              [none]|5845909|576597|   39774|       170708|https://i.ytimg.c...|13.09|\n",
      "|WYYvHb03Eog|Apple iPhone X fi...|       The Verge|         28|apple iphone x ha...|2642103| 24975|    4542|        12829|https://i.ytimg.c...|13.09|\n",
      "|sjlHnJvXdQs|   iPhone X (parody)|      jacksfilms|         23|jacksfilms|parody...|1168130| 96666|     568|         6666|https://i.ytimg.c...|13.09|\n",
      "+-----------+--------------------+----------------+-----------+--------------------+-------+------+--------+-------------+--------------------+-----+\n",
      "only showing top 5 rows\n",
      "\n"
     ]
    }
   ],
   "source": [
    "# videos.count()\n",
    "# comments.count()\n",
    "videos.show(5)"
   ]
  },
  {
   "cell_type": "code",
   "execution_count": 43,
   "id": "534ff30f",
   "metadata": {},
   "outputs": [
    {
     "name": "stdout",
     "output_type": "stream",
     "text": [
      "Requirement already satisfied: mmh3 in /opt/conda/lib/python3.11/site-packages (4.0.0)\n",
      "Requirement already satisfied: bitarray in /opt/conda/lib/python3.11/site-packages (2.7.4)\n"
     ]
    }
   ],
   "source": [
    "!pip install --no-cache-dir mmh3 bitarray"
   ]
  },
  {
   "cell_type": "code",
   "execution_count": 44,
   "id": "598332dc",
   "metadata": {},
   "outputs": [],
   "source": [
    "import math\n",
    "import mmh3\n",
    "from bitarray import bitarray\n",
    "  \n",
    "  \n",
    "class BloomFilter(object):\n",
    "  \n",
    "    '''\n",
    "    Class for Bloom filter, using murmur3 hash function\n",
    "    '''\n",
    "  \n",
    "    def __init__(self, items_count, fp_prob):\n",
    "        '''\n",
    "        items_count : int\n",
    "            Number of items expected to be stored in bloom filter\n",
    "        fp_prob : float\n",
    "            False Positive probability in decimal\n",
    "        '''\n",
    "        self.items_count = items_count\n",
    "        \n",
    "        # False possible probability in decimal\n",
    "        self.fp_prob = fp_prob\n",
    "  \n",
    "        # Size of bit array to use\n",
    "        self.size = self.get_size(items_count, fp_prob)\n",
    "  \n",
    "        # number of hash functions to use\n",
    "        self.hash_count = self.get_hash_count(self.size, items_count)\n",
    "  \n",
    "        # Bit array of given size\n",
    "        self.bit_array = bitarray(self.size)\n",
    "  \n",
    "        # initialize all bits as 0\n",
    "        self.bit_array.setall(0)\n",
    "  \n",
    "    def add(self, item):\n",
    "        '''\n",
    "        Add an item in the filter\n",
    "        '''\n",
    "        digests = []\n",
    "        for i in range(self.hash_count):\n",
    "  \n",
    "            # create digest for given item.\n",
    "            # i work as seed to mmh3.hash() function\n",
    "            # With different seed, digest created is different\n",
    "            digest = mmh3.hash(item, i) % self.size\n",
    "            digests.append(digest)\n",
    "  \n",
    "            # set the bit True in bit_array\n",
    "            self.bit_array[digest] = True\n",
    "        \n",
    "    def union(self, other):\n",
    "        \"\"\" Calculates the union of the two underlying bitarrays and returns\n",
    "        a new bloom filter object.\"\"\"\n",
    "        new_bloom = self.copy()\n",
    "        new_bloom.bit_array = new_bloom.bit_array | other.bit_array\n",
    "        return new_bloom\n",
    "  \n",
    "    def check(self, item):\n",
    "        '''\n",
    "        Check for existence of an item in filter\n",
    "        '''\n",
    "        for i in range(self.hash_count):\n",
    "            digest = mmh3.hash(item, i) % self.size\n",
    "            if self.bit_array[digest] == False:\n",
    "  \n",
    "                # if any of bit is False then,its not present\n",
    "                # in filter\n",
    "                # else there is probability that it exist\n",
    "                return False\n",
    "        return True\n",
    "    \n",
    "    def copy(self):\n",
    "        \"\"\"Return a copy of this bloom filter.\n",
    "        \"\"\"\n",
    "        new_filter = BloomFilter(self.items_count, self.fp_prob)\n",
    "        new_filter.bit_array = self.bit_array.copy()\n",
    "        return new_filter\n",
    "    \n",
    "    def set_bit_array(self, bit_array):\n",
    "        self.bit_array = bit_array\n",
    "  \n",
    "    @classmethod\n",
    "    def get_size(self, n, p):\n",
    "        '''\n",
    "        Return the size of bit array(m) to used using\n",
    "        following formula\n",
    "        m = -(n * lg(p)) / (lg(2)^2)\n",
    "        n : int\n",
    "            number of items expected to be stored in filter\n",
    "        p : float\n",
    "            False Positive probability in decimal\n",
    "        '''\n",
    "        m = -(n * math.log(p))/(math.log(2)**2)\n",
    "        return int(m)\n",
    "  \n",
    "    @classmethod\n",
    "    def get_hash_count(self, m, n):\n",
    "        '''\n",
    "        Return the hash function(k) to be used using\n",
    "        following formula\n",
    "        k = (m/n) * lg(2)\n",
    "  \n",
    "        m : int\n",
    "            size of bit array\n",
    "        n : int\n",
    "            number of items expected to be stored in filter\n",
    "        '''\n",
    "        k = (m/n) * math.log(2)\n",
    "        return int(k)"
   ]
  },
  {
   "cell_type": "code",
   "execution_count": 45,
   "id": "09b2c05a",
   "metadata": {},
   "outputs": [
    {
     "data": {
      "text/plain": [
       "48"
      ]
     },
     "execution_count": 45,
     "metadata": {},
     "output_type": "execute_result"
    }
   ],
   "source": [
    "cat_videos = (videos\n",
    " .select(\"video_id\",split_string(\"tags\").alias(\"tags\"))\n",
    " .select(\"video_id\",explode(\"tags\").alias(\"tag\"))\n",
    " .where(\"tag = 'cat'\")\n",
    ")\n",
    "\n",
    "cat_videos.count()"
   ]
  },
  {
   "cell_type": "code",
   "execution_count": 46,
   "id": "b9f39997",
   "metadata": {},
   "outputs": [],
   "source": [
    "# Для соединения лучше подойдет фильтр блума, так как video_id после фильтрации по тегу cats становится высоко селективной колонкой\n",
    "# Создаем фильтр\n",
    "\n",
    "filterSize = 31771\n",
    "prob = 0.05\n",
    "\n",
    "def fill_bloom_filter(bf, items):\n",
    "    for i in items:\n",
    "        bf.add(str(i[0]))\n",
    "    return bf\n",
    "\n",
    "bloom_filter = BloomFilter(filterSize, prob)\n",
    "\n",
    "general_bit_array = cat_videos.select(col('video_id')).rdd \\\n",
    "    .mapPartitions(lambda p: [fill_bloom_filter(BloomFilter(filterSize, prob), p).bit_array]) \\\n",
    "    .reduce(lambda a, b: a.bit_array | b.bit_array)\n",
    "\n",
    "bloom_filter.set_bit_array(general_bit_array)\n",
    "\n",
    "maybe_in_bf = udf(lambda video_id: bloom_filter.check(str(video_id)))\n"
   ]
  },
  {
   "cell_type": "code",
   "execution_count": 47,
   "id": "cdb3a354",
   "metadata": {},
   "outputs": [
    {
     "name": "stdout",
     "output_type": "stream",
     "text": [
      "+---------------------------------------------------------------------------------------------------------------------------------------------------------------------------------------------------------------------------------------------------------------------------------------------------------------------------------------------------------------------------------------------------------------------------------------------------------------------------------------------------------------------------------------------------------------------------------------------------------------------------------------------------------------------------------------------------------------------------------------------------------------------------------------------------------------------------------------------------+-----+\n",
      "|comment_text                                                                                                                                                                                                                                                                                                                                                                                                                                                                                                                                                                                                                                                                                                                                                                                                                                       |count|\n",
      "+---------------------------------------------------------------------------------------------------------------------------------------------------------------------------------------------------------------------------------------------------------------------------------------------------------------------------------------------------------------------------------------------------------------------------------------------------------------------------------------------------------------------------------------------------------------------------------------------------------------------------------------------------------------------------------------------------------------------------------------------------------------------------------------------------------------------------------------------------+-----+\n",
      "|SIMON...PLEASE PLEASE ...make more of your cats adventures videos...I do like the ones with the vet, but I have rewatched all your oldie goldies...thank you for all your videos                                                                                                                                                                                                                                                                                                                                                                                                                                                                                                                                                                                                                                                                   |25   |\n",
      "|During the winter when my cats can't go outside, Jasmine likes to take a ball with a bell in it, drop it down the basement steps and chase after it. She'll carry it and bring it up stairs again until she's bored.                                                                                                                                                                                                                                                                                                                                                                                                                                                                                                                                                                                                                               |25   |\n",
      "|Ah! My cat loves most play but her favourite is also a piece if string or the laser toy! She reacts just like Hugh! :-) I rattle the key ring & she comes darting out from wherever she has been! If it's not playtime & I'm just trying to move the toy from one place to another I have to pick it up super carefully or the smallest little sound from it has her darting ahead wanting to play! :-D                                                                                                                                                                                                                                                                                                                                                                                                                                            |25   |\n",
      "|My 1 year old black cat, Samantha (good name...she's a terror...lol) absolutely loves a yellow stuffed dog toy. She carries it around in her mouth, and when she wants me to play she drops it on top of my foot. Then we play catch the moving toy. She tugs on it like a dog, shakes it like a dog, and fetches it. Then her other favorite toys are marbles! She LOVES to chase marbles (she has about a dozen scattered about) and in the middle of the night I hear her chasing and hitting the marbles. If one goes under a dresser or the fridge, she meows and meows until I get it out for her. we also play the hiding game. When we lock eyes, I quickly hide my eyes between a chair or my bed, and she sneaks up on me to lock eyes w me again. I hide my gaze and she jumps up on the bed to attack me playfully. She is SO much fun!|25   |\n",
      "|No need to buy toys for cats. They will play with just about anything.                                                                                                                                                                                                                                                                                                                                                                                                                                                                                                                                                                                                                                                                                                                                                                             |25   |\n",
      "+---------------------------------------------------------------------------------------------------------------------------------------------------------------------------------------------------------------------------------------------------------------------------------------------------------------------------------------------------------------------------------------------------------------------------------------------------------------------------------------------------------------------------------------------------------------------------------------------------------------------------------------------------------------------------------------------------------------------------------------------------------------------------------------------------------------------------------------------------+-----+\n",
      "only showing top 5 rows\n",
      "\n"
     ]
    }
   ],
   "source": [
    "top_cat_comments = (comments\n",
    "    .filter(maybe_in_bf(col('video_id')) == True)\n",
    "    .join(cat_videos, cat_videos['video_id'] == comments['video_id'])\n",
    "    .select(comments[\"comment_text\"],comments[\"likes\"])\n",
    "    .groupBy(\"comment_text\").count()\n",
    "    .sort(col(\"count\").desc())\n",
    ")\n",
    "\n",
    "top_cat_comments.show(5,False)"
   ]
  }
 ],
 "metadata": {
  "kernelspec": {
   "display_name": "Python 3 (ipykernel)",
   "language": "python",
   "name": "python3"
  },
  "language_info": {
   "codemirror_mode": {
    "name": "ipython",
    "version": 3
   },
   "file_extension": ".py",
   "mimetype": "text/x-python",
   "name": "python",
   "nbconvert_exporter": "python",
   "pygments_lexer": "ipython3",
   "version": "3.11.3"
  }
 },
 "nbformat": 4,
 "nbformat_minor": 5
}
